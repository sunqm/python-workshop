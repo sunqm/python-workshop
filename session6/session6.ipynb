{
 "cells": [
  {
   "cell_type": "markdown",
   "metadata": {
    "slideshow": {
     "slide_type": "slide"
    }
   },
   "source": [
    "# Contents\n",
    "* Profiling\n",
    "* Debugger\n",
    "* Passing by reference vs passing by value\n",
    "* Import, python path and package layout\n",
    "* Namespace and scope\n",
    "* Object lifecycle\n",
    "* Serialization"
   ]
  },
  {
   "cell_type": "markdown",
   "metadata": {
    "slideshow": {
     "slide_type": "slide"
    }
   },
   "source": [
    "# Profiling\n",
    "\n",
    "## Tools for profiling\n",
    "* time\n",
    "* timeit\n",
    "* (builtin) cProfile\n",
    "* line profiler"
   ]
  },
  {
   "cell_type": "code",
   "execution_count": null,
   "metadata": {
    "slideshow": {
     "slide_type": "slide"
    }
   },
   "outputs": [],
   "source": [
    "def cos_min(lst):\n",
    "    min_element = np.cos(lst[0])\n",
    "    for x in lst:\n",
    "        if np.cos(x) < min_element:\n",
    "            min_element = np.cos(x)\n",
    "    return min_element"
   ]
  },
  {
   "cell_type": "code",
   "execution_count": null,
   "metadata": {},
   "outputs": [],
   "source": [
    "%prun cos_min(np.arange(10000))"
   ]
  },
  {
   "cell_type": "code",
   "execution_count": null,
   "metadata": {
    "slideshow": {
     "slide_type": "slide"
    }
   },
   "outputs": [],
   "source": [
    "#! pip install line_profiler\n",
    "%load_ext line_profiler\n",
    "%lprun -f cos_min cos_min(np.arange(10000))"
   ]
  },
  {
   "cell_type": "code",
   "execution_count": null,
   "metadata": {
    "slideshow": {
     "slide_type": "slide"
    }
   },
   "outputs": [],
   "source": [
    "#!pip install numba\n",
    "import numba\n",
    "@numba.jit\n",
    "def cos_min_fast(lst):\n",
    "    min_element = np.cos(lst[0])\n",
    "    for x in lst:\n",
    "        if np.cos(x) < min_element:\n",
    "            min_element = np.cos(x)\n",
    "    return min_element"
   ]
  },
  {
   "cell_type": "code",
   "execution_count": null,
   "metadata": {},
   "outputs": [],
   "source": [
    "%time cos_min(np.arange(1000000))"
   ]
  },
  {
   "cell_type": "code",
   "execution_count": null,
   "metadata": {},
   "outputs": [],
   "source": [
    "%time cos_min_fast(np.arange(1000000))"
   ]
  },
  {
   "cell_type": "markdown",
   "metadata": {
    "slideshow": {
     "slide_type": "skip"
    }
   },
   "source": [
    "---"
   ]
  },
  {
   "cell_type": "markdown",
   "metadata": {
    "slideshow": {
     "slide_type": "slide"
    }
   },
   "source": [
    "# Debugger"
   ]
  },
  {
   "cell_type": "code",
   "execution_count": null,
   "metadata": {},
   "outputs": [],
   "source": [
    "def cos_min(lst):\n",
    "    min_element = np.cos(lst[0])\n",
    "    \n",
    "    # Put this statement in the code to start python debugger\n",
    "    import pdb; pdb.set_trace()\n",
    "    for x in lst:\n",
    "        if np.cos(x) < min_element:\n",
    "            min_element = np.cos(x)\n",
    "    return min_element"
   ]
  },
  {
   "cell_type": "code",
   "execution_count": null,
   "metadata": {},
   "outputs": [],
   "source": [
    "cos_min([2,3,4,5,6])"
   ]
  },
  {
   "cell_type": "markdown",
   "metadata": {
    "slideshow": {
     "slide_type": "skip"
    }
   },
   "source": [
    "---"
   ]
  },
  {
   "cell_type": "markdown",
   "metadata": {
    "slideshow": {
     "slide_type": "slide"
    }
   },
   "source": [
    "# Passing by reference\n",
    "## All arguments in the Python language are passed by reference"
   ]
  },
  {
   "cell_type": "code",
   "execution_count": null,
   "metadata": {},
   "outputs": [],
   "source": [
    "a = 90\n",
    "print(id(a))\n",
    "def test_arg_id(x):\n",
    "    print(id(x))\n",
    "test_arg_id(a)"
   ]
  },
  {
   "cell_type": "markdown",
   "metadata": {
    "slideshow": {
     "slide_type": "slide"
    }
   },
   "source": [
    "## If arguments' contents are changed, these changes reflect back in the caller"
   ]
  },
  {
   "cell_type": "code",
   "execution_count": null,
   "metadata": {},
   "outputs": [],
   "source": [
    "def append(lst, element):\n",
    "    lst.append(element)\n",
    "lst = [1, 2]\n",
    "append(lst, 3)\n",
    "print(lst)"
   ]
  },
  {
   "cell_type": "markdown",
   "metadata": {
    "slideshow": {
     "slide_type": "slide"
    }
   },
   "source": [
    "## Are the values of these arguments changed?"
   ]
  },
  {
   "cell_type": "code",
   "execution_count": null,
   "metadata": {},
   "outputs": [],
   "source": [
    "def f(x):\n",
    "    x = 9\n",
    "x = None\n",
    "f(x)\n",
    "print(x)"
   ]
  },
  {
   "cell_type": "code",
   "execution_count": null,
   "metadata": {},
   "outputs": [],
   "source": [
    "def f(x=None):\n",
    "    if x is None:\n",
    "        x = list('default')\n",
    "    else:\n",
    "        x = list(x)\n",
    "    x[0] = 10\n",
    "    \n",
    "x = [1]\n",
    "f(x)\n",
    "print(x)"
   ]
  },
  {
   "cell_type": "markdown",
   "metadata": {
    "slideshow": {
     "slide_type": "slide"
    }
   },
   "source": [
    "## Python always create a new object for \"=\""
   ]
  },
  {
   "cell_type": "code",
   "execution_count": null,
   "metadata": {},
   "outputs": [],
   "source": [
    "def f(x):\n",
    "    x = 9\n",
    "    print(id(x))\n",
    "    \n",
    "x = None\n",
    "print(id(x))\n",
    "f(x)"
   ]
  },
  {
   "cell_type": "markdown",
   "metadata": {},
   "source": [
    "### Python is a strong type program language. Once created, the type of an object is fixed. The object type cannot be overwritten at runtime."
   ]
  },
  {
   "cell_type": "markdown",
   "metadata": {
    "slideshow": {
     "slide_type": "skip"
    }
   },
   "source": [
    "---"
   ]
  },
  {
   "cell_type": "markdown",
   "metadata": {
    "slideshow": {
     "slide_type": "slide"
    }
   },
   "source": [
    "# import, python runtime and package layout\n",
    "```\n",
    "import this\n",
    "```\n",
    "\n",
    "References\n",
    "1. https://www.python.org/dev/peps/pep-0402/\n",
    "2. https://www.python.org/dev/peps/pep-0382/\n",
    "3. https://www.python.org/dev/peps/pep-0328/\n",
    "4. http://python-notes.curiousefficiency.org/en/latest/python_concepts/import_traps.html"
   ]
  },
  {
   "cell_type": "markdown",
   "metadata": {
    "slideshow": {
     "slide_type": "slide"
    }
   },
   "source": [
    "## Paths where a package may be installed to\n",
    "* (linux) `/usr/lib/python3.*/site-packages/`\n",
    "* (linux) `/usr/local/lib/python3.*/site-packages/`\n",
    "* (mac) `/usr/local/Cellar/python/3.*/Frameworks/Python.framework/Versions/3.*/lib/python3.*/site-packages`\n",
    "* `(virtual-env-path)/lib/python3.*/site-packages/`\n",
    "* (linux) `~/.local/lib/python3.*/site-packages/`\n",
    "* (mac) `~/Library/Python/3.7/lib/python/site-packages/`"
   ]
  },
  {
   "cell_type": "markdown",
   "metadata": {
    "slideshow": {
     "slide_type": "slide"
    }
   },
   "source": [
    "## Python runtime paths\n",
    "\n",
    "```\n",
    "sys.path\n",
    "\n",
    "['/usr/lib/python3.8',\n",
    "'/usr/lib/python3.8/lib-dynload',\n",
    "'/usr/local/lib/python3.8/dist-packages',\n",
    "'/usr/lib/python3/dist-packages'\n",
    "...]\n",
    "```\n",
    "\n",
    "For packages located in the paths listed in `sys.path`, python can load them on the fly. Libraries do not have to be existing before startup.  Python allows one to install libraries (to `sys.path`) or updating `sys.path` at runtime."
   ]
  },
  {
   "cell_type": "code",
   "execution_count": null,
   "metadata": {
    "slideshow": {
     "slide_type": "slide"
    }
   },
   "outputs": [],
   "source": [
    "import runtime_lib_demo"
   ]
  },
  {
   "cell_type": "code",
   "execution_count": null,
   "metadata": {},
   "outputs": [],
   "source": [
    "!mkdir -p templib && cd templib && touch runtime_lib_demo.py"
   ]
  },
  {
   "cell_type": "code",
   "execution_count": null,
   "metadata": {},
   "outputs": [],
   "source": [
    "sys.path.append(os.path.abspath('templib'))\n",
    "import runtime_lib_demo"
   ]
  },
  {
   "cell_type": "markdown",
   "metadata": {
    "slideshow": {
     "slide_type": "slide"
    }
   },
   "source": [
    "## PYTHONPATH and pth file\n",
    "\n",
    "### Python also searches packages in paths specified by environment variable PYTHONPATH\n",
    "\n",
    "```\n",
    "$ PYTHONPATH=/tmp/abc/def python -c 'import sys; print(sys.path)'\n",
    "```\n",
    "\n",
    "### pth file in site directories\n",
    "\n",
    "```\n",
    "$ cat /usr/local/lib/python3.8/site-packages/easy-install.pth\n",
    "/tmp/abc/def\n",
    "\n",
    "$ python -c 'import sys; print(sys.path)'\n",
    "```\n",
    "pth file is often generated by command `pip install -e`. This way adds a custom package to system site packages.\n"
   ]
  },
  {
   "cell_type": "markdown",
   "metadata": {
    "slideshow": {
     "slide_type": "slide"
    }
   },
   "source": [
    "## How to make a Python package / sub-package\n",
    "\n",
    "Putting `__init__.py` in a folder, the folder becomes a Python package / sub-package\n",
    "\n",
    "### namespace package (for sub-packages)\n",
    "\n",
    "By adding paths in variable `__path__` (usually in `__init__.py`), packages can be \"imported\" as sub-package"
   ]
  },
  {
   "cell_type": "markdown",
   "metadata": {
    "cell_style": "split",
    "slideshow": {
     "slide_type": "slide"
    }
   },
   "source": [
    "```\n",
    "layout:\n",
    "/tmp/foo/bar/\n",
    "  __init__.py\n",
    "  spam.py\n",
    "\n",
    "./baz/\n",
    " __init__.py\n",
    "```"
   ]
  },
  {
   "cell_type": "markdown",
   "metadata": {
    "cell_style": "split"
   },
   "source": [
    "```\n",
    "$ cat /tmp/foo/bar/spam.py\n",
    "print('hello world')\n",
    "\n",
    "$ cat baz/__init__.py\n",
    "__path__ = ['/tmp/foo/bar']\n",
    "\n",
    "$ python -c 'from baz import spam'\n",
    "hello world\n",
    "```"
   ]
  },
  {
   "cell_type": "markdown",
   "metadata": {
    "slideshow": {
     "slide_type": "slide"
    }
   },
   "source": [
    "When developing a Python package, `PYTHONPATH`, `pth` file (through `pip install -e`) and `__path__` are commonly used to temporarily install a package without polluting the default package systems."
   ]
  },
  {
   "cell_type": "markdown",
   "metadata": {
    "slideshow": {
     "slide_type": "slide"
    }
   },
   "source": [
    "## Relative import\n",
    "```\n",
    "# layout:\n",
    "#   foo/\n",
    "#     __init__.py\n",
    "#     bar/\n",
    "#       __init__.py\n",
    "#       baz.py\n",
    "#       where_we_are.py\n",
    "# cat where_we_are.py\n",
    "from . import baz       # == from foo.bar import baz\n",
    "from ..bar import baz   # == from foo.bar import baz\n",
    "from ... import foo     # == import foo\n",
    "from .... import applicable_but_smells_bad\n",
    "```"
   ]
  },
  {
   "cell_type": "markdown",
   "metadata": {
    "slideshow": {
     "slide_type": "slide"
    }
   },
   "source": [
    "## How does Python import a package\n",
    "two steps:\n",
    "* Load the module (importlib.import_module)\n",
    "* Register the module in a proper namespace\n",
    "\n",
    "```\n",
    "from foo import bar as ham\n",
    "\n",
    "# equivalent to\n",
    "imoprt foo\n",
    "ham = foo.bar\n",
    "del foo\n",
    "```"
   ]
  },
  {
   "cell_type": "markdown",
   "metadata": {
    "slideshow": {
     "slide_type": "slide"
    }
   },
   "source": [
    "## Circular import\n",
    "Difference between `from foo import bar` and `import foo` in the circular case\n"
   ]
  },
  {
   "cell_type": "markdown",
   "metadata": {
    "cell_style": "split",
    "slideshow": {
     "slide_type": "-"
    }
   },
   "source": [
    "* works\n",
    "\n",
    "```\n",
    "# cat foo.py\n",
    "import bar\n",
    "spam = 1\n",
    "\n",
    "# cat bar.py\n",
    "import foo\n",
    "ham = 2\n",
    "```\n"
   ]
  },
  {
   "cell_type": "markdown",
   "metadata": {
    "cell_style": "split"
   },
   "source": [
    "* not working\n",
    "\n",
    "```\n",
    "# cat foo.py\n",
    "import bar\n",
    "spam = 1\n",
    "\n",
    "# cat bar.py\n",
    "from foo import spam\n",
    "ham = 2\n",
    "```"
   ]
  },
  {
   "cell_type": "markdown",
   "metadata": {
    "slideshow": {
     "slide_type": "slide"
    }
   },
   "source": [
    "```\n",
    "print(sys.path)\n",
    "[..., '/tmp/foo',\n",
    "'/tmp/foo/bar', ...]\n",
    "\n",
    "from bar import baz\n",
    "from foo.bar import baz\n",
    "\n",
    "print(sys.modules)\n",
    "'bar.baz': <module 'bar.baz' from '/tmp/foo/bar/baz.pyc>,\n",
    "'foo.bar.baz': <module 'foo.bar.baz' from '/tmp/foo/bar/baz.pyc>,\n",
    "```"
   ]
  },
  {
   "cell_type": "markdown",
   "metadata": {
    "slideshow": {
     "slide_type": "slide"
    }
   },
   "source": [
    "## Each module is imported only once\n",
    "* Modules presented in `sys.modules` will not be imported again\n",
    "* Avoid double import\n",
    "  - Same package being imported twice from different paths\n",
    "  - How? When the path of a sub-package is added to sys.path\n",
    "  - No way to guarantee single import"
   ]
  },
  {
   "cell_type": "markdown",
   "metadata": {
    "slideshow": {
     "slide_type": "slide"
    }
   },
   "source": [
    "### double import\n",
    "```\n",
    "/foo/bar/baz/ham.py\n",
    "PYTHONPATH=/foo/bar/baz:/foo/bar\n",
    "import ham\n",
    "import baz.ham\n",
    "```"
   ]
  },
  {
   "cell_type": "markdown",
   "metadata": {
    "slideshow": {
     "slide_type": "skip"
    }
   },
   "source": [
    "---"
   ]
  },
  {
   "cell_type": "markdown",
   "metadata": {
    "slideshow": {
     "slide_type": "slide"
    }
   },
   "source": [
    "# Namespace and scope\n",
    "<img src=\"https://freecontent.manning.com/wp-content/uploads/namespacing-with-python_01.png\" style=\"width: 700px;\"/>"
   ]
  },
  {
   "cell_type": "markdown",
   "metadata": {
    "slideshow": {
     "slide_type": "slide"
    }
   },
   "source": [
    "## Namespace and scope\n",
    "* global namespace (module level)\n",
    "  - `dir()` or `globals()`\n",
    "  \n",
    "* class namespace\n",
    "  - `dir(<class name>)` or `<class name>.__dict__`\n",
    "  \n",
    "* local namespace (inside functions)\n",
    "  - `dir()` or `locals()`\n",
    "  \n",
    "* closure\n",
    "  - `locals()` shares the local namespace of the parent function, while its `globals()` points to the regular global namespace."
   ]
  },
  {
   "cell_type": "code",
   "execution_count": null,
   "metadata": {
    "slideshow": {
     "slide_type": "slide"
    }
   },
   "outputs": [],
   "source": [
    "class A:\n",
    "    var = 1\n",
    "    def print_me(self):\n",
    "        print(dir())"
   ]
  },
  {
   "cell_type": "code",
   "execution_count": null,
   "metadata": {},
   "outputs": [],
   "source": [
    "A().print_me()"
   ]
  },
  {
   "cell_type": "code",
   "execution_count": null,
   "metadata": {},
   "outputs": [],
   "source": [
    "dir(A)"
   ]
  },
  {
   "cell_type": "code",
   "execution_count": null,
   "metadata": {
    "slideshow": {
     "slide_type": "slide"
    }
   },
   "outputs": [],
   "source": [
    "# Variables in differet namespace can have the same name\n",
    "x = \"I'm global\"\n",
    "def func():\n",
    "    global x\n",
    "    x = \"I'm local\"\n",
    "    another_local_var = 'xyz'\n",
    "    def func_closure():\n",
    "        global x #NO\n",
    "        x = \"I'm local in closure\"\n",
    "        y = another_local_var\n",
    "        print(dir()) # globals()\n",
    "        print(x)\n",
    "    # func_closure.x_in_func = x # x in local namespace of func\n",
    "    return func_closure\n",
    "fclosure = func()\n",
    "print(x)\n",
    "fclosure()\n",
    "print(dir(fclosure))\n",
    "#print(fclosure.x_in_func)"
   ]
  },
  {
   "cell_type": "markdown",
   "metadata": {
    "slideshow": {
     "slide_type": "slide"
    }
   },
   "source": [
    "## Variable bindings in closure"
   ]
  },
  {
   "cell_type": "code",
   "execution_count": null,
   "metadata": {
    "slideshow": {
     "slide_type": "-"
    }
   },
   "outputs": [],
   "source": [
    "funs = []\n",
    "for key in range(3):\n",
    "    def plus_key(n, key=key):\n",
    "        return key + n\n",
    "    funs.append(plus_key)\n",
    "    \n",
    "print(funs[0](10))\n",
    "print(funs[1](10))\n",
    "print(funs[2](10))\n",
    "print(funs)"
   ]
  },
  {
   "cell_type": "markdown",
   "metadata": {
    "slideshow": {
     "slide_type": "skip"
    }
   },
   "source": [
    "---"
   ]
  },
  {
   "cell_type": "markdown",
   "metadata": {
    "slideshow": {
     "slide_type": "slide"
    }
   },
   "source": [
    "# Python object lifecycle\n",
    "\n",
    "* Variables defined in modules: They live as long as the module live in memory\n",
    "* Local varialbes in functions: typically, destroyed when function ends\n",
    "* Attributes of objects: destroyed when the object is destroyed\n",
    "* Closure: affect the lifecycle of variables in parent functions. These variables are destroyed when closures are destroyed.\n",
    "* Implicit variables in function call: same life cycle as local variables in functions. They are destroyed when function execution finish. The statement \"del\" does not delete these variables immediately\n",
    "```\n",
    "def func(x):\n",
    "    del x\n",
    "func(' '*100)\n",
    "```\n"
   ]
  },
  {
   "cell_type": "markdown",
   "metadata": {
    "slideshow": {
     "slide_type": "slide"
    }
   },
   "source": [
    "## Object lifecycle in Ipython\n",
    "\n",
    "* Outputs/returns are cached in In/Out history cache. This sometimes causes large memory usage. Use magic `%reset` to clear the history cache"
   ]
  },
  {
   "cell_type": "markdown",
   "metadata": {
    "slideshow": {
     "slide_type": "slide"
    }
   },
   "source": [
    "## Reference counting\n",
    "* Python use automatic reference counting to manage lifecycle of an object\n",
    "* When reference count of an object is reduced to 0, Python garbage collector will destroy the object.\n",
    "* Reference decreasement happens in: assignment, \"del\" statement, function finish\n",
    "```\n",
    "import sys\n",
    "obj = None\n",
    "sys.getrefcount(obj)\n",
    "```"
   ]
  },
  {
   "cell_type": "code",
   "execution_count": null,
   "metadata": {},
   "outputs": [],
   "source": [
    "import sys\n",
    "sys.getrefcount(None)"
   ]
  },
  {
   "cell_type": "markdown",
   "metadata": {
    "slideshow": {
     "slide_type": "slide"
    }
   },
   "source": [
    "## `__del__` method\n",
    "\n",
    "* Like the destructor of C++. It can be used to destruct resources (e.g. files, sockets)\n",
    "* If `__del__` method is defined for a class, it is called only if the reference count of the object is decreased to 0\n",
    "* Statement `del obj` does not call `__del__` method. It only decrease the reference count of an object\n",
    "* `__del__` is useful, but generally using `__del__` is not recommended. This is due to the defects of reference counting algorithm. (See [circular reference](circular-reference))  "
   ]
  },
  {
   "cell_type": "markdown",
   "metadata": {
    "slideshow": {
     "slide_type": "slide"
    }
   },
   "source": [
    "## Circular reference"
   ]
  },
  {
   "cell_type": "markdown",
   "metadata": {
    "cell_style": "split",
    "slideshow": {
     "slide_type": "-"
    }
   },
   "source": [
    "```\n",
    "class A:\n",
    "    pass\n",
    "a = A()\n",
    "a.var = a\n",
    "```"
   ]
  },
  {
   "cell_type": "markdown",
   "metadata": {
    "cell_style": "split"
   },
   "source": [
    "```\n",
    "class B:\n",
    "    def __init__(self, var):\n",
    "        self.var = var\n",
    "a = A()\n",
    "b = B(a)\n",
    "a.var = b\n",
    "```"
   ]
  },
  {
   "cell_type": "markdown",
   "metadata": {
    "slideshow": {
     "slide_type": "-"
    }
   },
   "source": [
    "Circular reference may hide deeply in the code. https://bugs.python.org/issue12836 is a circular reference bug in Python standard library (ctypes) found 9 years ago. No fix so far. "
   ]
  },
  {
   "cell_type": "markdown",
   "metadata": {
    "slideshow": {
     "slide_type": "slide"
    }
   },
   "source": [
    "## Problems caused by circular reference\n",
    "* Memory leak\n",
    "* `__del__` method never be called. Certain resources never be released.\n"
   ]
  },
  {
   "cell_type": "markdown",
   "metadata": {
    "slideshow": {
     "slide_type": "slide"
    }
   },
   "source": [
    "## Solutions for circular reference\n",
    "\n",
    "1. Manual garbage collection\n",
    "```\n",
    "import gc; gc.collect()\n",
    "```\n",
    "\n",
    "2. Context manager than `__del__` method\n",
    "\n",
    "3. Weakref library\n",
    "https://docs.python.org/3/library/weakref.html#example\n",
    "\n",
    "4. Define \"close\" method, and make explict calls to \"close\" method for destruction. However, be cautious to the Exceptions raised in the program. They may skip the statements that call \"close\" method."
   ]
  },
  {
   "cell_type": "markdown",
   "metadata": {
    "slideshow": {
     "slide_type": "skip"
    }
   },
   "source": [
    "---"
   ]
  },
  {
   "cell_type": "markdown",
   "metadata": {
    "slideshow": {
     "slide_type": "slide"
    }
   },
   "source": [
    "# Serialization\n",
    "\n",
    "* `pickle.dumps` / `pickle.loads` is a way to replay/rerun the data construction procedure in Python interpreter\n",
    "  - Insecure for the pickled object from untrusted sources\n",
    "  - Performance: Moderate\n",
    "  - Compatibility\n",
    "* `json.dumps` / `json.loads`\n",
    "  - text based, human readable, cross-platform compatibility\n",
    "  - Performance: slow\n",
    "  - limited supports to Python data structure"
   ]
  },
  {
   "cell_type": "markdown",
   "metadata": {
    "slideshow": {
     "slide_type": "slide"
    }
   },
   "source": [
    "## Picklable\n",
    "* built-in variables and built-in functions\n",
    "  (None, boolean, numbers, str, tuple, list, sets, dict, ...)\n",
    "\n",
    "* functions, classes that are defined at the top level of a module which is importable\n",
    "* instances of custom classes if `__dict__` is picklable or `__setstate__()` is defined\n",
    "\n",
    "## Unpicklable\n",
    "* io object, file object, socket, closure cannot be pickled"
   ]
  },
  {
   "cell_type": "markdown",
   "metadata": {
    "slideshow": {
     "slide_type": "slide"
    }
   },
   "source": [
    "## Multiprocessing\n",
    "* Multiprocessing is related to pickle.\n",
    "* When a process is forked, only picklable objects can be cloned to child processes. (Objects were pickled in the parent process and sent to child processes then unpickled).\n",
    "* Unpicklable objects may vanish in child processes. If your program relies on unpicklable objects, the program may be terminated silently or with strange errors that cannot be understood.\n",
    "\n",
    "### Rule of thumb: whenever possible, use multithreading than multiprocessing"
   ]
  },
  {
   "cell_type": "markdown",
   "metadata": {
    "slideshow": {
     "slide_type": "slide"
    }
   },
   "source": [
    "# Conclusion\n",
    "* Python is great, but imperfect\n",
    "* Thinking like a Python interpreter\n",
    "* More reading, more writing"
   ]
  }
 ],
 "metadata": {
  "celltoolbar": "Slideshow",
  "kernelspec": {
   "display_name": "Python 3",
   "language": "python",
   "name": "python3"
  },
  "language_info": {
   "codemirror_mode": {
    "name": "ipython",
    "version": 3
   },
   "file_extension": ".py",
   "mimetype": "text/x-python",
   "name": "python",
   "nbconvert_exporter": "python",
   "pygments_lexer": "ipython3",
   "version": "3.7.6"
  },
  "toc": {
   "base_numbering": 1,
   "nav_menu": {},
   "number_sections": true,
   "sideBar": true,
   "skip_h1_title": false,
   "title_cell": "Table of Contents",
   "title_sidebar": "Contents",
   "toc_cell": false,
   "toc_position": {},
   "toc_section_display": true,
   "toc_window_display": false
  }
 },
 "nbformat": 4,
 "nbformat_minor": 2
}
